{
 "cells": [
  {
   "cell_type": "code",
   "execution_count": 1,
   "metadata": {},
   "outputs": [],
   "source": [
    "import pandas as pd\n",
    "import numpy as np\n"
   ]
  },
  {
   "cell_type": "code",
   "execution_count": 2,
   "metadata": {},
   "outputs": [
    {
     "name": "stdout",
     "output_type": "stream",
     "text": [
      "<class 'pandas.core.frame.DataFrame'>\n",
      "RangeIndex: 119 entries, 0 to 118\n",
      "Data columns (total 5 columns):\n",
      " #   Column  Non-Null Count  Dtype  \n",
      "---  ------  --------------  -----  \n",
      " 0   7.7     119 non-null    object \n",
      " 1   3.8     119 non-null    float64\n",
      " 2   6.7     119 non-null    float64\n",
      " 3   2.2     119 non-null    object \n",
      " 4   2.0     119 non-null    int64  \n",
      "dtypes: float64(2), int64(1), object(2)\n",
      "memory usage: 4.8+ KB\n",
      "<class 'pandas.core.frame.DataFrame'>\n",
      "RangeIndex: 29 entries, 0 to 28\n",
      "Data columns (total 4 columns):\n",
      " #   Column  Non-Null Count  Dtype  \n",
      "---  ------  --------------  -----  \n",
      " 0   4.8     29 non-null     float64\n",
      " 1   3.1     29 non-null     float64\n",
      " 2   1.6     29 non-null     float64\n",
      " 3   0.2     29 non-null     float64\n",
      "dtypes: float64(4)\n",
      "memory usage: 1.0 KB\n"
     ]
    },
    {
     "data": {
      "text/plain": [
       "(None, None)"
      ]
     },
     "execution_count": 2,
     "metadata": {},
     "output_type": "execute_result"
    }
   ],
   "source": [
    "\n",
    "train_df = pd.read_excel('TrainingData.xlsx')\n",
    "test_df = pd.read_excel('TestData.xlsx')\n",
    "\n",
    "train_df.info(), test_df.info()"
   ]
  },
  {
   "cell_type": "markdown",
   "metadata": {},
   "source": [
    "## Missing Values"
   ]
  },
  {
   "cell_type": "code",
   "execution_count": 3,
   "metadata": {},
   "outputs": [
    {
     "data": {
      "text/html": [
       "<div>\n",
       "<style scoped>\n",
       "    .dataframe tbody tr th:only-of-type {\n",
       "        vertical-align: middle;\n",
       "    }\n",
       "\n",
       "    .dataframe tbody tr th {\n",
       "        vertical-align: top;\n",
       "    }\n",
       "\n",
       "    .dataframe thead th {\n",
       "        text-align: right;\n",
       "    }\n",
       "</style>\n",
       "<table border=\"1\" class=\"dataframe\">\n",
       "  <thead>\n",
       "    <tr style=\"text-align: right;\">\n",
       "      <th></th>\n",
       "      <th>RowIndex</th>\n",
       "      <th>Feature</th>\n",
       "      <th>Label</th>\n",
       "    </tr>\n",
       "  </thead>\n",
       "  <tbody>\n",
       "    <tr>\n",
       "      <th>0</th>\n",
       "      <td>37</td>\n",
       "      <td>0</td>\n",
       "      <td>2</td>\n",
       "    </tr>\n",
       "    <tr>\n",
       "      <th>1</th>\n",
       "      <td>59</td>\n",
       "      <td>0</td>\n",
       "      <td>1</td>\n",
       "    </tr>\n",
       "    <tr>\n",
       "      <th>2</th>\n",
       "      <td>81</td>\n",
       "      <td>3</td>\n",
       "      <td>3</td>\n",
       "    </tr>\n",
       "  </tbody>\n",
       "</table>\n",
       "</div>"
      ],
      "text/plain": [
       "   RowIndex  Feature  Label\n",
       "0        37        0      2\n",
       "1        59        0      1\n",
       "2        81        3      3"
      ]
     },
     "execution_count": 3,
     "metadata": {},
     "output_type": "execute_result"
    }
   ],
   "source": [
    "# Replace missing values(?) with NaN\n",
    "train_df.replace('?', np.nan, inplace=True)\n",
    "\n",
    "# find columns with missing values(non-numeric values)\n",
    "def find_missing_values(df):\n",
    "    missing_values = []\n",
    "\n",
    "    for col_index, col in enumerate(df.columns):\n",
    "        missing_in_col = df[df[col].isnull()]\n",
    "        for row_index in missing_in_col.index:\n",
    "            label = df.iloc[row_index, -1]\n",
    "            missing_values.append([row_index, col_index, label])\n",
    "\n",
    "    missing_values_df = pd.DataFrame(missing_values, columns=['RowIndex', 'Feature', 'Label'])\n",
    "    return missing_values_df\n",
    "\n",
    "missing_values = find_missing_values(train_df)\n",
    "missing_values"
   ]
  },
  {
   "cell_type": "markdown",
   "metadata": {},
   "source": [
    "### Replace NaN values \n",
    "1. Simply remove/drop them\n",
    "2. Replace them with mean/median/bootstraping(random sample from the same class same feature)\n",
    "3. Using Random Forest based classification tree\n",
    "\n",
    "### 1.simply remove/drop them"
   ]
  },
  {
   "cell_type": "code",
   "execution_count": 4,
   "metadata": {},
   "outputs": [
    {
     "name": "stdout",
     "output_type": "stream",
     "text": [
      "<class 'pandas.core.frame.DataFrame'>\n",
      "Index: 116 entries, 0 to 118\n",
      "Data columns (total 5 columns):\n",
      " #   Column  Non-Null Count  Dtype  \n",
      "---  ------  --------------  -----  \n",
      " 0   7.7     116 non-null    float64\n",
      " 1   3.8     116 non-null    float64\n",
      " 2   6.7     116 non-null    float64\n",
      " 3   2.2     116 non-null    float64\n",
      " 4   2.0     116 non-null    int64  \n",
      "dtypes: float64(4), int64(1)\n",
      "memory usage: 5.4 KB\n"
     ]
    }
   ],
   "source": [
    "# remove NaN\n",
    "train_df_drop = train_df.dropna()\n",
    "train_df_drop.info()"
   ]
  },
  {
   "cell_type": "markdown",
   "metadata": {},
   "source": [
    "### 2.Replace them with mean/median/bootstraping(random sample from the same class same feature)\n",
    "#### (1) Mean/Median/Mode"
   ]
  },
  {
   "cell_type": "code",
   "execution_count": 5,
   "metadata": {},
   "outputs": [
    {
     "name": "stdout",
     "output_type": "stream",
     "text": [
      "<class 'pandas.core.frame.DataFrame'>\n",
      "RangeIndex: 119 entries, 0 to 118\n",
      "Data columns (total 5 columns):\n",
      " #   Column  Non-Null Count  Dtype  \n",
      "---  ------  --------------  -----  \n",
      " 0   7.7     119 non-null    float64\n",
      " 1   3.8     119 non-null    float64\n",
      " 2   6.7     119 non-null    float64\n",
      " 3   2.2     119 non-null    float64\n",
      " 4   2.0     119 non-null    int64  \n",
      "dtypes: float64(4), int64(1)\n",
      "memory usage: 4.8 KB\n",
      "<class 'pandas.core.frame.DataFrame'>\n",
      "RangeIndex: 119 entries, 0 to 118\n",
      "Data columns (total 5 columns):\n",
      " #   Column  Non-Null Count  Dtype  \n",
      "---  ------  --------------  -----  \n",
      " 0   7.7     119 non-null    float64\n",
      " 1   3.8     119 non-null    float64\n",
      " 2   6.7     119 non-null    float64\n",
      " 3   2.2     119 non-null    float64\n",
      " 4   2.0     119 non-null    int64  \n",
      "dtypes: float64(4), int64(1)\n",
      "memory usage: 4.8 KB\n",
      "<class 'pandas.core.frame.DataFrame'>\n",
      "RangeIndex: 119 entries, 0 to 118\n",
      "Data columns (total 5 columns):\n",
      " #   Column  Non-Null Count  Dtype  \n",
      "---  ------  --------------  -----  \n",
      " 0   7.7     119 non-null    float64\n",
      " 1   3.8     119 non-null    float64\n",
      " 2   6.7     119 non-null    float64\n",
      " 3   2.2     119 non-null    float64\n",
      " 4   2.0     119 non-null    int64  \n",
      "dtypes: float64(4), int64(1)\n",
      "memory usage: 4.8 KB\n"
     ]
    },
    {
     "data": {
      "text/plain": [
       "(None, None, None)"
      ]
     },
     "execution_count": 5,
     "metadata": {},
     "output_type": "execute_result"
    }
   ],
   "source": [
    "# Mean\n",
    "train_df_mean_na = train_df.fillna(train_df.mean())\n",
    "\n",
    "# Median\n",
    "train_df_media_na = train_df.fillna(train_df.median())\n",
    "\n",
    "# Mode\n",
    "train_df_mode_na = train_df.fillna(train_df.mode().iloc[0])\n",
    "\n",
    "train_df_mean_na.info(), train_df_media_na.info(), train_df_mode_na.info()"
   ]
  },
  {
   "cell_type": "markdown",
   "metadata": {},
   "source": [
    "#### (2) class random sampling"
   ]
  },
  {
   "cell_type": "code",
   "execution_count": 6,
   "metadata": {},
   "outputs": [
    {
     "name": "stdout",
     "output_type": "stream",
     "text": [
      "Replaced NaN at row 59, column 0 with value 4.7 from label 1\n",
      "Replaced NaN at row 37, column 0 with value 7.7 from label 2\n",
      "Replaced NaN at row 81, column 3 with value 1.5 from label 3\n",
      "<class 'pandas.core.frame.DataFrame'>\n",
      "RangeIndex: 119 entries, 0 to 118\n",
      "Data columns (total 5 columns):\n",
      " #   Column  Non-Null Count  Dtype  \n",
      "---  ------  --------------  -----  \n",
      " 0   7.7     119 non-null    float64\n",
      " 1   3.8     119 non-null    float64\n",
      " 2   6.7     119 non-null    float64\n",
      " 3   2.2     119 non-null    float64\n",
      " 4   2.0     119 non-null    int64  \n",
      "dtypes: float64(4), int64(1)\n",
      "memory usage: 4.8 KB\n"
     ]
    }
   ],
   "source": [
    "def Sto_Imp_fillna(df, seed=0):\n",
    "    np.random.seed(seed) # set seed for reproducibility\n",
    "    df = df.copy()\n",
    "    class_label = df.columns[-1]\n",
    "    # loop features\n",
    "    for column in df.columns[:-1]:\n",
    "        column_index = df.columns.get_loc(column)\n",
    "        for label in df[class_label].unique():\n",
    "            # find samples with NaN in this class label\n",
    "            rows_with_nan = df[(df[class_label] == label) & (df[column].isnull())].index\n",
    "            for row in rows_with_nan:\n",
    "                # find valid samples with same class label as the NaN samples\n",
    "                valid_samples = df[(df[class_label] == label) & (~df[column].isnull())]\n",
    "                if not valid_samples.empty:\n",
    "                    # random replace NaN with random value(fixed feature) from valid samples\n",
    "                    replacement_value = valid_samples[column].sample(n=1).values[0]\n",
    "                    df.at[row, column] = replacement_value\n",
    "                    print(f\"Replaced NaN at row {row}, column {column_index} with value {replacement_value} from label {label}\")\n",
    "                else:\n",
    "                    print(f\"No valid samples found for {label} in {column}\")\n",
    "                    pass\n",
    "    return df\n",
    "\n",
    "train_df_sto = Sto_Imp_fillna(train_df)\n",
    "train_df_sto.info()"
   ]
  },
  {
   "cell_type": "markdown",
   "metadata": {},
   "source": [
    "#### (3) random forest based classification tree"
   ]
  },
  {
   "cell_type": "code",
   "execution_count": null,
   "metadata": {},
   "outputs": [],
   "source": []
  },
  {
   "cell_type": "markdown",
   "metadata": {},
   "source": [
    "## Outliers\n",
    "conduction on train set，but no test set. Because we are using classification tree, which is not sensitive to outliers."
   ]
  },
  {
   "cell_type": "code",
   "execution_count": 7,
   "metadata": {},
   "outputs": [
    {
     "data": {
      "text/html": [
       "<div>\n",
       "<style scoped>\n",
       "    .dataframe tbody tr th:only-of-type {\n",
       "        vertical-align: middle;\n",
       "    }\n",
       "\n",
       "    .dataframe tbody tr th {\n",
       "        vertical-align: top;\n",
       "    }\n",
       "\n",
       "    .dataframe thead th {\n",
       "        text-align: right;\n",
       "    }\n",
       "</style>\n",
       "<table border=\"1\" class=\"dataframe\">\n",
       "  <thead>\n",
       "    <tr style=\"text-align: right;\">\n",
       "      <th></th>\n",
       "      <th>RowIndex</th>\n",
       "      <th>Feature</th>\n",
       "      <th>Label</th>\n",
       "      <th>OutlierValue</th>\n",
       "    </tr>\n",
       "  </thead>\n",
       "  <tbody>\n",
       "    <tr>\n",
       "      <th>0</th>\n",
       "      <td>94</td>\n",
       "      <td>0</td>\n",
       "      <td>1</td>\n",
       "      <td>10.6</td>\n",
       "    </tr>\n",
       "    <tr>\n",
       "      <th>1</th>\n",
       "      <td>51</td>\n",
       "      <td>1</td>\n",
       "      <td>1</td>\n",
       "      <td>4.1</td>\n",
       "    </tr>\n",
       "    <tr>\n",
       "      <th>2</th>\n",
       "      <td>96</td>\n",
       "      <td>1</td>\n",
       "      <td>1</td>\n",
       "      <td>4.4</td>\n",
       "    </tr>\n",
       "    <tr>\n",
       "      <th>3</th>\n",
       "      <td>89</td>\n",
       "      <td>2</td>\n",
       "      <td>2</td>\n",
       "      <td>16.0</td>\n",
       "    </tr>\n",
       "    <tr>\n",
       "      <th>4</th>\n",
       "      <td>115</td>\n",
       "      <td>3</td>\n",
       "      <td>3</td>\n",
       "      <td>5.3</td>\n",
       "    </tr>\n",
       "  </tbody>\n",
       "</table>\n",
       "</div>"
      ],
      "text/plain": [
       "   RowIndex  Feature  Label  OutlierValue\n",
       "0        94        0      1          10.6\n",
       "1        51        1      1           4.1\n",
       "2        96        1      1           4.4\n",
       "3        89        2      2          16.0\n",
       "4       115        3      3           5.3"
      ]
     },
     "execution_count": 7,
     "metadata": {},
     "output_type": "execute_result"
    }
   ],
   "source": [
    "def find_outliers(df):\n",
    "    outliers = []\n",
    "    df = df.copy()\n",
    "    for col_index, col in enumerate(df.columns):\n",
    "        if df[col].dtype in ['int64', 'float64']:\n",
    "            Q1 = df[col].quantile(0.25)\n",
    "            Q3 = df[col].quantile(0.75)\n",
    "            IQR = Q3 - Q1\n",
    "            outlier_condition = (df[col] < Q1 - 1.5*IQR) | (df[col] > Q3 + 1.5*IQR)\n",
    "            outliers_in_col = df[outlier_condition][col]\n",
    "            for row_index, value in outliers_in_col.items():\n",
    "                label = df.iloc[row_index, -1]\n",
    "                outliers.append([row_index, col_index, label, value])\n",
    "\n",
    "    outliers_df = pd.DataFrame(outliers, columns=['RowIndex', 'Feature', 'Label', 'OutlierValue'])\n",
    "    return outliers_df\n",
    "\n",
    "outliers = find_outliers(train_df_sto)\n",
    "outliers"
   ]
  },
  {
   "cell_type": "markdown",
   "metadata": {},
   "source": [
    "### 1. Drop them"
   ]
  },
  {
   "cell_type": "code",
   "execution_count": 8,
   "metadata": {},
   "outputs": [
    {
     "name": "stdout",
     "output_type": "stream",
     "text": [
      "<class 'pandas.core.frame.DataFrame'>\n",
      "Index: 114 entries, 0 to 118\n",
      "Data columns (total 5 columns):\n",
      " #   Column  Non-Null Count  Dtype  \n",
      "---  ------  --------------  -----  \n",
      " 0   7.7     114 non-null    float64\n",
      " 1   3.8     114 non-null    float64\n",
      " 2   6.7     114 non-null    float64\n",
      " 3   2.2     114 non-null    float64\n",
      " 4   2.0     114 non-null    int64  \n",
      "dtypes: float64(4), int64(1)\n",
      "memory usage: 5.3 KB\n"
     ]
    }
   ],
   "source": [
    "def remove_outliers(df, outliers):\n",
    "    # get unique outlier rows\n",
    "    outlier_rows = outliers['RowIndex'].unique()\n",
    "    df_cleaned = df.drop(outlier_rows)\n",
    "    return df_cleaned\n",
    "\n",
    "train_df_drop_outliers = remove_outliers(train_df_sto, outliers)\n",
    "train_df_drop_outliers.info()"
   ]
  },
  {
   "cell_type": "markdown",
   "metadata": {},
   "source": [
    "### Imputation\n",
    "#### 1. Mean/Median/Mode"
   ]
  },
  {
   "cell_type": "code",
   "execution_count": 9,
   "metadata": {},
   "outputs": [],
   "source": [
    "# def impute_outliers_with_median(df, outliers):\n",
    "#     for index, row in outliers.iterrows():\n",
    "#         feature = row['Feature']\n",
    "#         row_index = row['RowIndex']\n",
    "#         if row_index not in df.index:\n",
    "#             print(f\"Row index {row_index} not found in DataFrame.\")\n",
    "#             continue\n",
    "#         # calculate median value without outliers\n",
    "#         median_value = df[~df.index.isin(outliers['RowIndex'])][feature].median()\n",
    "#         # replace outlier with median value\n",
    "#         df.at[row_index, feature] = median_value\n",
    "#         print(f\"Replaced outlier in row {row_index}, column {feature} with median value {median_value}\")\n",
    "#     return df\n",
    "\n",
    "# train_df_impute_outliers = impute_outliers_with_median(train_df_bootstrap_na, outliers)\n"
   ]
  },
  {
   "cell_type": "markdown",
   "metadata": {},
   "source": [
    "### 3. Cappinng"
   ]
  },
  {
   "cell_type": "code",
   "execution_count": 10,
   "metadata": {},
   "outputs": [
    {
     "name": "stdout",
     "output_type": "stream",
     "text": [
      "Capped outlier in row 94.0, feature 0.0, value 10.6, with upper bound 8.350000000000001\n",
      "Capped outlier in row 51.0, feature 1.0, value 4.1, with upper bound 4.05\n",
      "Capped outlier in row 96.0, feature 1.0, value 4.4, with upper bound 4.05\n",
      "Capped outlier in row 89.0, feature 2.0, value 16.0, with upper bound 10.349999999999998\n",
      "Capped outlier in row 115.0, feature 3.0, value 5.3, with upper bound 4.05\n",
      "<class 'pandas.core.frame.DataFrame'>\n",
      "RangeIndex: 119 entries, 0 to 118\n",
      "Data columns (total 5 columns):\n",
      " #   Column  Non-Null Count  Dtype  \n",
      "---  ------  --------------  -----  \n",
      " 0   7.7     119 non-null    float64\n",
      " 1   3.8     119 non-null    float64\n",
      " 2   6.7     119 non-null    float64\n",
      " 3   2.2     119 non-null    float64\n",
      " 4   2.0     119 non-null    int64  \n",
      "dtypes: float64(4), int64(1)\n",
      "memory usage: 4.8 KB\n"
     ]
    }
   ],
   "source": [
    "def cap_outliers(df, outliers):\n",
    "    for index, row in outliers.iterrows():\n",
    "        #feature as column index\n",
    "        column = df.columns[int(row['Feature'])] # as integer\n",
    "        # calculate IQR\n",
    "        Q1 = df[column].quantile(0.25)\n",
    "        Q3 = df[column].quantile(0.75)\n",
    "        IQR = Q3 - Q1\n",
    "        # calculate lower and upper bounds\n",
    "        lower_bound = Q1 - 1.5 * IQR\n",
    "        upper_bound = Q3 + 1.5 * IQR\n",
    "        \n",
    "        value = df.at[row['RowIndex'], column]\n",
    "        \n",
    "        # cap outliers\n",
    "        if row['OutlierValue'] < lower_bound:\n",
    "            df.at[row['RowIndex'], column] = lower_bound\n",
    "            print(f\"Capped outlier in row {row['RowIndex']}, feature {row['Feature']}, value {value}, with lower bound {lower_bound}\")\n",
    "        elif row['OutlierValue'] > upper_bound:\n",
    "            df.at[row['RowIndex'], column] = upper_bound\n",
    "            print(f\"Capped outlier in row {row['RowIndex']}, feature {row['Feature']}, value {value}, with upper bound {upper_bound}\")\n",
    "    return df\n",
    "\n",
    "train_df_capped = cap_outliers(train_df_sto.copy(), outliers)\n",
    "train_df_capped.info()"
   ]
  },
  {
   "cell_type": "code",
   "execution_count": 11,
   "metadata": {},
   "outputs": [],
   "source": [
    "train_df_capped.to_excel(\"bootcap.xlsx\", index=False)"
   ]
  },
  {
   "cell_type": "code",
   "execution_count": 12,
   "metadata": {},
   "outputs": [],
   "source": [
    "# print(train_df_bootstrap_na.columns)\n",
    "# column = 2.2  # 假设这是造成问题的列名\n",
    "# Q1 = train_df_bootstrap_na[column].quantile(0.25)\n",
    "# Q3 = train_df_bootstrap_na[column].quantile(0.75)\n",
    "# IQR = Q3 - Q1\n",
    "# upper_bound = Q3 + 1.5 * IQR\n",
    "\n",
    "# print(f\"Q1: {Q1}, Q3: {Q3}, IQR: {IQR}, Upper Bound: {upper_bound}\")"
   ]
  },
  {
   "cell_type": "code",
   "execution_count": 13,
   "metadata": {},
   "outputs": [
    {
     "name": "stdout",
     "output_type": "stream",
     "text": [
      "label\n",
      "3    41\n",
      "1    40\n",
      "2    39\n",
      "Name: count, dtype: int64\n"
     ]
    },
    {
     "data": {
      "text/html": [
       "<div>\n",
       "<style scoped>\n",
       "    .dataframe tbody tr th:only-of-type {\n",
       "        vertical-align: middle;\n",
       "    }\n",
       "\n",
       "    .dataframe tbody tr th {\n",
       "        vertical-align: top;\n",
       "    }\n",
       "\n",
       "    .dataframe thead th {\n",
       "        text-align: right;\n",
       "    }\n",
       "</style>\n",
       "<table border=\"1\" class=\"dataframe\">\n",
       "  <thead>\n",
       "    <tr style=\"text-align: right;\">\n",
       "      <th></th>\n",
       "      <th>feature1</th>\n",
       "      <th>feature2</th>\n",
       "      <th>feature3</th>\n",
       "      <th>feature4</th>\n",
       "      <th>label</th>\n",
       "    </tr>\n",
       "  </thead>\n",
       "  <tbody>\n",
       "    <tr>\n",
       "      <th>0</th>\n",
       "      <td>7.7</td>\n",
       "      <td>3.8</td>\n",
       "      <td>6.7</td>\n",
       "      <td>2.2</td>\n",
       "      <td>2</td>\n",
       "    </tr>\n",
       "    <tr>\n",
       "      <th>1</th>\n",
       "      <td>5</td>\n",
       "      <td>2.3</td>\n",
       "      <td>3.3</td>\n",
       "      <td>1</td>\n",
       "      <td>3</td>\n",
       "    </tr>\n",
       "    <tr>\n",
       "      <th>2</th>\n",
       "      <td>5</td>\n",
       "      <td>3.4</td>\n",
       "      <td>1.6</td>\n",
       "      <td>0.4</td>\n",
       "      <td>1</td>\n",
       "    </tr>\n",
       "    <tr>\n",
       "      <th>3</th>\n",
       "      <td>4.9</td>\n",
       "      <td>3.1</td>\n",
       "      <td>1.5</td>\n",
       "      <td>0.2</td>\n",
       "      <td>1</td>\n",
       "    </tr>\n",
       "    <tr>\n",
       "      <th>4</th>\n",
       "      <td>5.4</td>\n",
       "      <td>3.9</td>\n",
       "      <td>1.3</td>\n",
       "      <td>0.4</td>\n",
       "      <td>1</td>\n",
       "    </tr>\n",
       "  </tbody>\n",
       "</table>\n",
       "</div>"
      ],
      "text/plain": [
       "  feature1  feature2  feature3 feature4  label\n",
       "0      7.7       3.8       6.7      2.2      2\n",
       "1        5       2.3       3.3        1      3\n",
       "2        5       3.4       1.6      0.4      1\n",
       "3      4.9       3.1       1.5      0.2      1\n",
       "4      5.4       3.9       1.3      0.4      1"
      ]
     },
     "execution_count": 13,
     "metadata": {},
     "output_type": "execute_result"
    }
   ],
   "source": [
    "train_head_df = pd.read_excel('TrainHead.xlsx')\n",
    "print(train_head_df.iloc[:, -1].value_counts())\n",
    "# train_head_df.info(), test_df.info()\n",
    "train_head_df.head()"
   ]
  },
  {
   "cell_type": "code",
   "execution_count": 32,
   "metadata": {},
   "outputs": [
    {
     "data": {
      "image/png": "[encoded data removed]",
      "text/plain": [
       "<Figure size 800x600 with 1 Axes>"
      ]
     },
     "metadata": {},
     "output_type": "display_data"
    }
   ],
   "source": [
    "import matplotlib.pyplot as plt\n",
    "import pandas as pd\n",
    "\n",
    "# 手动创建一个类别分布的字典\n",
    "class_distribution = pd.Series({\n",
    "    1: 40,\n",
    "    2: 39,\n",
    "    3: 41\n",
    "})\n",
    "\n",
    "# Define a nice color palette\n",
    "colors = ['blue','cornflowerblue','lightsteelblue','#ffcc99']\n",
    "\n",
    "labels_with_counts = [f'Class {label}: {count}' for label, count in zip(class_distribution.keys(), class_distribution.values)]\n",
    "\n",
    "# Plot pie chart with new labels\n",
    "plt.figure(figsize=(8, 6))\n",
    "plt.pie(class_distribution.values, labels=labels_with_counts, colors=colors, autopct='%1.1f%%')\n",
    "\n",
    "# plt.title('Class Distribution in Training Data')\n",
    "plt.axis('equal') \n",
    "\n",
    "plt.show()"
   ]
  },
  {
   "cell_type": "code",
   "execution_count": 38,
   "metadata": {},
   "outputs": [
    {
     "data": {
      "image/png": "[encoded data removed]",
      "text/plain": [
       "<Figure size 800x600 with 1 Axes>"
      ]
     },
     "metadata": {},
     "output_type": "display_data"
    }
   ],
   "source": [
    "from sklearn.manifold import TSNE\n",
    "\n",
    "tsne = TSNE(n_components=2, random_state=0)  \n",
    "tsne_results = tsne.fit_transform(train_df_capped.iloc[:, :-1])  \n",
    "\n",
    "df_tsne = pd.DataFrame(data=tsne_results, columns=['t-SNE feature 1', 't-SNE feature 2'])\n",
    "\n",
    "df_tsne['Label'] = train_df_capped.iloc[:, -1]\n",
    "\n",
    "\n",
    "plt.figure(figsize=(8, 6))\n",
    "colors = {1: 'blue', 2: 'red', 3: 'green'}  # color\n",
    "for label, color in colors.items():\n",
    "    subset = df_tsne[df_tsne['Label'] == label]\n",
    "    plt.scatter(subset['t-SNE feature 1'], subset['t-SNE feature 2'], c=color, label=f'Class {label}', alpha=0.5)\n",
    "\n",
    "plt.title('t-SNE visualization of the training data')\n",
    "plt.xlabel('t-SNE feature 1')\n",
    "plt.ylabel('t-SNE feature 2')\n",
    "plt.legend()\n",
    "plt.show()"
   ]
  },
  {
   "cell_type": "code",
   "execution_count": null,
   "metadata": {},
   "outputs": [],
   "source": []
  }
 ],
 "metadata": {
  "kernelspec": {
   "display_name": "gaml",
   "language": "python",
   "name": "python3"
  },
  "language_info": {
   "codemirror_mode": {
    "name": "ipython",
    "version": 3
   },
   "file_extension": ".py",
   "mimetype": "text/x-python",
   "name": "python",
   "nbconvert_exporter": "python",
   "pygments_lexer": "ipython3",
   "version": "3.8.19"
  }
 },
 "nbformat": 4,
 "nbformat_minor": 2
}
